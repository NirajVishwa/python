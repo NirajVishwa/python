{
  "nbformat": 4,
  "nbformat_minor": 0,
  "metadata": {
    "colab": {
      "provenance": [],
      "collapsed_sections": [],
      "authorship_tag": "ABX9TyPyIXtSqEwqYz0GwsTn9JrE",
      "include_colab_link": true
    },
    "kernelspec": {
      "name": "python3",
      "display_name": "Python 3"
    },
    "language_info": {
      "name": "python"
    }
  },
  "cells": [
    {
      "cell_type": "markdown",
      "metadata": {
        "id": "view-in-github",
        "colab_type": "text"
      },
      "source": [
        "<a href=\"https://colab.research.google.com/github/NirajVishwa/python/blob/main/basics_of_python.ipynb\" target=\"_parent\"><img src=\"https://colab.research.google.com/assets/colab-badge.svg\" alt=\"Open In Colab\"/></a>"
      ]
    },
    {
      "cell_type": "code",
      "execution_count": null,
      "metadata": {
        "colab": {
          "base_uri": "https://localhost:8080/"
        },
        "id": "oHi3smQIvN-W",
        "outputId": "fcf376e8-4bd2-4842-eb27-69af3c7823a9"
      },
      "outputs": [
        {
          "output_type": "stream",
          "name": "stdout",
          "text": [
            "hello world\n"
          ]
        }
      ],
      "source": [
        "print(\"hello world\")"
      ]
    },
    {
      "cell_type": "code",
      "source": [
        "#this is used for single line comment"
      ],
      "metadata": {
        "id": "PC9tLJm8xd5J"
      },
      "execution_count": null,
      "outputs": []
    },
    {
      "cell_type": "code",
      "source": [
        "\"\"\"this \n",
        "is \n",
        "used for multi line\n",
        "comments\n",
        "\"\"\""
      ],
      "metadata": {
        "colab": {
          "base_uri": "https://localhost:8080/",
          "height": 36
        },
        "id": "hpLY3LfwxxR6",
        "outputId": "40ec91a7-1157-44f1-c348-93e08c573984"
      },
      "execution_count": null,
      "outputs": [
        {
          "output_type": "execute_result",
          "data": {
            "text/plain": [
              "'this \\nis \\nused for multi line\\ncomments\\n'"
            ],
            "application/vnd.google.colaboratory.intrinsic+json": {
              "type": "string"
            }
          },
          "metadata": {},
          "execution_count": 3
        }
      ]
    },
    {
      "cell_type": "code",
      "source": [
        "print(\"\"\"this print is used for multi\n",
        "line \n",
        "print\"\"\")"
      ],
      "metadata": {
        "colab": {
          "base_uri": "https://localhost:8080/"
        },
        "id": "ZC0_lkHbx5er",
        "outputId": "8b27f0af-8d51-405c-b74f-6c3a75caa69c"
      },
      "execution_count": null,
      "outputs": [
        {
          "output_type": "stream",
          "name": "stdout",
          "text": [
            "this print is used for multi\n",
            "line \n",
            "print\n"
          ]
        }
      ]
    },
    {
      "cell_type": "code",
      "source": [
        "#repl is simple multiplication which can done in python terminal "
      ],
      "metadata": {
        "id": "_JnZuFNCyCgG"
      },
      "execution_count": null,
      "outputs": []
    },
    {
      "cell_type": "code",
      "source": [
        "a=30 #where a is variable whih contains value 30\n",
        "a"
      ],
      "metadata": {
        "colab": {
          "base_uri": "https://localhost:8080/"
        },
        "id": "Xj-ojBQ_yUk2",
        "outputId": "6b944b8e-b3cb-45a5-ac30-2111b8c1f010"
      },
      "execution_count": null,
      "outputs": [
        {
          "output_type": "execute_result",
          "data": {
            "text/plain": [
              "30"
            ]
          },
          "metadata": {},
          "execution_count": 7
        }
      ]
    },
    {
      "cell_type": "code",
      "source": [
        "#keyword are predefine variable in python\n",
        "#variable are used define \n"
      ],
      "metadata": {
        "id": "_gXvIWAC0PiX"
      },
      "execution_count": null,
      "outputs": []
    },
    {
      "cell_type": "code",
      "source": [
        "\"\"\"data types\n",
        "interger eg 30,40\n",
        "string eg the,all \n",
        "boolen eg True False\n",
        "none its used for None\n",
        "float for decimal no eg 10.1\"\"\""
      ],
      "metadata": {
        "colab": {
          "base_uri": "https://localhost:8080/",
          "height": 36
        },
        "id": "qE0VsX2S1Ahg",
        "outputId": "0acdfbb4-c4e4-45c4-9fbe-adc69e354718"
      },
      "execution_count": null,
      "outputs": [
        {
          "output_type": "execute_result",
          "data": {
            "text/plain": [
              "'data types\\ninterger eg 30,40\\nstring eg the,all \\nboolen eg True False\\nnone its used for None\\nfloat for decimal no eg 10.1'"
            ],
            "application/vnd.google.colaboratory.intrinsic+json": {
              "type": "string"
            }
          },
          "metadata": {},
          "execution_count": 9
        }
      ]
    },
    {
      "cell_type": "code",
      "source": [
        "a=30  #interger\n",
        "b=\"hello\" #string\n",
        "c=\"\"\"the \n",
        "all\n",
        "is\"\"\" #this used for multi line string\n",
        "c=True\n",
        "d=None\n",
        "e=10.3\n",
        "print(a)\n",
        "print(type(a))\n",
        "print(b)\n",
        "print(type(b))\n",
        "print(c)\n",
        "print(type(c))\n",
        "print(d)\n",
        "print(type(d))\n",
        "print(e)\n",
        "print(type(e))"
      ],
      "metadata": {
        "colab": {
          "base_uri": "https://localhost:8080/"
        },
        "id": "nNQKwt8X1vVE",
        "outputId": "9d8b0b12-94df-4630-cbc8-76a5db20370c"
      },
      "execution_count": null,
      "outputs": [
        {
          "output_type": "stream",
          "name": "stdout",
          "text": [
            "30\n",
            "<class 'int'>\n",
            "hello\n",
            "<class 'str'>\n",
            "True\n",
            "<class 'bool'>\n",
            "None\n",
            "<class 'NoneType'>\n",
            "10.3\n",
            "<class 'float'>\n"
          ]
        }
      ]
    },
    {
      "cell_type": "code",
      "source": [
        "#variable can start with alphabets and \"_\"\n",
        "#variable cant start with number\n",
        "#varible cant contain special characters except \"_\"\n",
        "#variable number can be used for creating variables\n",
        "#space cant be used in variable\n",
        "#python is case sensitive it will treat a and A as different "
      ],
      "metadata": {
        "id": "49gAK9kV2v0L"
      },
      "execution_count": null,
      "outputs": []
    },
    {
      "cell_type": "code",
      "source": [
        "# types operators \n",
        "\"\"\"arithmetic operators: +,-,* and / \n",
        "assignments operators :=,+=,-=,*= and /=\n",
        "comparsion operators : ==,<,<=,>,>= and != this any gives values True and False\n",
        "logical operators and(&&) or(||) and not\n",
        "\"\"\""
      ],
      "metadata": {
        "colab": {
          "base_uri": "https://localhost:8080/",
          "height": 36
        },
        "id": "4jrE59lV4PHh",
        "outputId": "39aa486c-7716-43ba-a96d-50fdcf373e46"
      },
      "execution_count": null,
      "outputs": [
        {
          "output_type": "execute_result",
          "data": {
            "text/plain": [
              "'arithmetic operators: +,-,* and / \\nassignments operators :=,+=,-=,*= and /=\\n'"
            ],
            "application/vnd.google.colaboratory.intrinsic+json": {
              "type": "string"
            }
          },
          "metadata": {},
          "execution_count": 16
        }
      ]
    },
    {
      "cell_type": "code",
      "source": [
        "a=5\n",
        "a+=5#a=a+5\n",
        "print(a)\n",
        "a-=5#a=a-5\n",
        "print(a)\n",
        "a*=5#a=a*5\n",
        "print(a)\n",
        "a/=5#a=a/5\n",
        "print(a)"
      ],
      "metadata": {
        "colab": {
          "base_uri": "https://localhost:8080/"
        },
        "id": "Y4vZf0W77Ub0",
        "outputId": "078a4015-d7bd-4c28-dab5-ce4165c6a774"
      },
      "execution_count": null,
      "outputs": [
        {
          "output_type": "stream",
          "name": "stdout",
          "text": [
            "10\n",
            "5\n",
            "25\n",
            "5.0\n"
          ]
        }
      ]
    },
    {
      "cell_type": "code",
      "source": [
        "print(a==4)\n",
        "print(a<4)\n",
        "print(a<=4)\n",
        "print(a>4)\n",
        "print(a>=4)\n",
        "print(a!=4)"
      ],
      "metadata": {
        "colab": {
          "base_uri": "https://localhost:8080/"
        },
        "id": "sqn-QSAG7fnF",
        "outputId": "805e43a0-5b80-421a-917c-43a16645723d"
      },
      "execution_count": null,
      "outputs": [
        {
          "output_type": "stream",
          "name": "stdout",
          "text": [
            "False\n",
            "False\n",
            "False\n",
            "True\n",
            "True\n",
            "True\n"
          ]
        }
      ]
    },
    {
      "cell_type": "code",
      "source": [
        "a=True\n",
        "b=False\n",
        "print(a and b)\n",
        "print(a or b)\n",
        "print(not b)\n"
      ],
      "metadata": {
        "colab": {
          "base_uri": "https://localhost:8080/"
        },
        "id": "U3vTxE9A8yal",
        "outputId": "c00d7c8e-8e97-4d66-bb49-5c59b33dc4ff"
      },
      "execution_count": null,
      "outputs": [
        {
          "output_type": "stream",
          "name": "stdout",
          "text": [
            "False\n",
            "True\n",
            "True\n"
          ]
        }
      ]
    },
    {
      "cell_type": "code",
      "source": [
        "#type casting\n",
        "a=\"345\"\n",
        "print(type(a))\n",
        "b=int(a)#for converting into integer\n",
        "print(type(b))\n",
        "c=str(b)#for converting into string\n",
        "print(type(c))\n",
        "d=float(a)#for converting into float\n",
        "print(type(d))"
      ],
      "metadata": {
        "colab": {
          "base_uri": "https://localhost:8080/"
        },
        "id": "s47C0nim-GUM",
        "outputId": "0880b68c-a73d-4b59-a506-65341560856d"
      },
      "execution_count": null,
      "outputs": [
        {
          "output_type": "stream",
          "name": "stdout",
          "text": [
            "<class 'str'>\n",
            "<class 'int'>\n",
            "<class 'str'>\n",
            "<class 'float'>\n"
          ]
        }
      ]
    },
    {
      "cell_type": "code",
      "source": [
        "#input function\n",
        "a=input(\"enter any thing\")#input is used to take value from user and it will take every input as str\n",
        "print(type(a))\n",
        "print(a)"
      ],
      "metadata": {
        "colab": {
          "base_uri": "https://localhost:8080/"
        },
        "id": "RVEE8DIT-vRl",
        "outputId": "c1b9a8e0-fd6e-4ca7-a4c2-db9b5a2c70a9"
      },
      "execution_count": null,
      "outputs": [
        {
          "output_type": "stream",
          "name": "stdout",
          "text": [
            "enter any thing34\n",
            "<class 'str'>\n",
            "34\n"
          ]
        }
      ]
    },
    {
      "cell_type": "code",
      "source": [
        "#string\n",
        "a='hello'#single quoted string\n",
        "print(a)\n",
        "b=\"hello1\"#double quoted string\n",
        "print(b)\n",
        "c='''hello2'''#triple quoted string\n",
        "print(c)\n",
        "print(len(a))#for getting length\n",
        "#index starts from 0\n",
        "print(a[0])#for getting first element\n",
        "print(a+b)#concatenating(adding) to two element\n",
        "print(a[0:2])#2 index element will be not printed\n",
        "print(a[:1])#from starting to given index\n",
        "print(a[2:])#from given index till last element\n",
        "#negative index starts from 1\n",
        "print(a[-1])\n",
        "a=\"hello world\"\n",
        "print(a[1::2])#here 2 is skip every one element from start\n",
        "print(a.count(\"o\"))#for count word or letter\n",
        "print(a.capitalize())#for getting first letter capital in sentence\n",
        "print(a.endswith(\"world\"))#it will gives true if sentence ends with the word else false\n",
        "print(a.find(\"hello\"))#it will the position of word we are finding else it willl return -1 its work any for first occurrence\n",
        "print(a.replace(\"hello\",\"with\"))"
      ],
      "metadata": {
        "id": "_wCam55qAYKB",
        "colab": {
          "base_uri": "https://localhost:8080/"
        },
        "outputId": "36e75847-1c8e-4498-aa6c-c1259f6c2633"
      },
      "execution_count": null,
      "outputs": [
        {
          "output_type": "stream",
          "name": "stdout",
          "text": [
            "hello\n",
            "hello1\n",
            "hello2\n",
            "5\n",
            "h\n",
            "hellohello1\n",
            "he\n",
            "h\n",
            "llo\n",
            "o\n",
            "el ol\n",
            "2\n",
            "Hello world\n",
            "True\n",
            "0\n",
            "with world\n"
          ]
        }
      ]
    },
    {
      "cell_type": "code",
      "source": [
        "\"\"\"\\n is used for print the output to next line\n",
        "\\t used for giving tab space\n",
        "\\\\ is used to print \\\n",
        "\\' is used for printing '\n",
        "\"\"\""
      ],
      "metadata": {
        "id": "BQ7ai-13CHCK",
        "colab": {
          "base_uri": "https://localhost:8080/",
          "height": 36
        },
        "outputId": "9d358f7d-f602-4114-a5ae-8ef855ae7147"
      },
      "execution_count": null,
      "outputs": [
        {
          "output_type": "execute_result",
          "data": {
            "text/plain": [
              "\"\\n is used for print the output to next line\\n\\t used for giving tab space\\n\\\\ is used to print ' is used for printing '\\n\""
            ],
            "application/vnd.google.colaboratory.intrinsic+json": {
              "type": "string"
            }
          },
          "metadata": {},
          "execution_count": 6
        }
      ]
    },
    {
      "cell_type": "code",
      "source": [
        "at=2.37"
      ],
      "metadata": {
        "id": "yka_pmUHAuye"
      },
      "execution_count": null,
      "outputs": []
    },
    {
      "cell_type": "code",
      "source": [
        "t=int(input())\n",
        "for i in range (t):\n",
        "    x=int(input(\"enter the frequency :\"))\n",
        "    if x>=67 and x<=45000:\n",
        "        print(\"yes\")\n",
        "    else:\n",
        "        print(\"no\")\n",
        "    "
      ],
      "metadata": {
        "colab": {
          "base_uri": "https://localhost:8080/"
        },
        "id": "xw9wmAWlAboD",
        "outputId": "e30ade92-8f3b-41db-f846-f94032e89fb6"
      },
      "execution_count": null,
      "outputs": [
        {
          "output_type": "stream",
          "name": "stdout",
          "text": [
            "1\n",
            "enter the frequency :42\n",
            "no\n"
          ]
        }
      ]
    },
    {
      "cell_type": "code",
      "source": [
        "t=int(input(\"\\n\"))\n",
        "if 1<=t and t<=10:\n",
        "    for i in range (t):\n",
        "        x=int(input())\n",
        "        y=int(input())\n",
        "        if 50<=y and y<x and x<=200:\n",
        "            print(x-y)\n"
      ],
      "metadata": {
        "id": "SAX9qwRzAdO3",
        "colab": {
          "base_uri": "https://localhost:8080/"
        },
        "outputId": "de6bc6ac-5762-481d-f5b6-44518242b544"
      },
      "execution_count": null,
      "outputs": [
        {
          "output_type": "stream",
          "name": "stdout",
          "text": [
            "\n",
            "4\n",
            "200\n",
            "150\n",
            "50\n",
            "100\n",
            "99\n",
            "1\n",
            "130\n",
            "97\n",
            "33\n",
            "53\n",
            "51\n",
            "2\n"
          ]
        }
      ]
    },
    {
      "cell_type": "code",
      "source": [],
      "metadata": {
        "id": "dIyIYadaDGz5"
      },
      "execution_count": null,
      "outputs": []
    }
  ]
}